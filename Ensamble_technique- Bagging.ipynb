{
 "cells": [
  {
   "cell_type": "markdown",
   "metadata": {
    "colab_type": "text",
    "id": "3sNKZq4XrXQh"
   },
   "source": [
    "# <font color='red'><b>Bootstrap Implementation</b> </font>"
   ]
  },
  {
   "cell_type": "markdown",
   "metadata": {
    "colab_type": "text",
    "id": "RAHap1Z3FZC-"
   },
   "source": [
    "<b>There will be some functions that start with the word \"grader\" ex: grader_sampples(), grader_30().. etc, you should not change those function definition.\n",
    "\n",
    "Every Grader function has to return True.</b>"
   ]
  },
  {
   "cell_type": "markdown",
   "metadata": {
    "colab_type": "text",
    "id": "cuxBq_bvrwh2"
   },
   "source": [
    "<font color='blue'> <b>Importing packages</b> </font>"
   ]
  },
  {
   "cell_type": "code",
   "execution_count": 95,
   "metadata": {
    "colab": {},
    "colab_type": "code",
    "id": "m6ag91ijrQOs"
   },
   "outputs": [],
   "source": [
    "import numpy as np # importing numpy for numerical computation\n",
    "from sklearn.datasets import load_boston # here we are using sklearn's boston dataset\n",
    "from sklearn.metrics import mean_squared_error # importing mean_squared_error metric\n",
    "from sklearn.tree import DecisionTreeRegressor\n",
    "from random import random\n",
    "import warnings\n",
    "warnings.filterwarnings(\"ignore\")"
   ]
  },
  {
   "cell_type": "code",
   "execution_count": 96,
   "metadata": {
    "colab": {},
    "colab_type": "code",
    "id": "CcHOsONTt1K_"
   },
   "outputs": [],
   "source": [
    "boston = load_boston()\n",
    "x=boston.data #independent variables\n",
    "y=boston.target #target variable"
   ]
  },
  {
   "cell_type": "code",
   "execution_count": 97,
   "metadata": {
    "colab": {
     "base_uri": "https://localhost:8080/",
     "height": 34
    },
    "colab_type": "code",
    "id": "pc1htEFYuLRj",
    "outputId": "f5b60712-98b3-4cdc-b629-3546c1e3859c"
   },
   "outputs": [
    {
     "data": {
      "text/plain": [
       "(506, 13)"
      ]
     },
     "execution_count": 97,
     "metadata": {},
     "output_type": "execute_result"
    }
   ],
   "source": [
    "x.shape"
   ]
  },
  {
   "cell_type": "code",
   "execution_count": 98,
   "metadata": {},
   "outputs": [
    {
     "data": {
      "text/plain": [
       "array([24. , 21.6, 34.7, 33.4, 36.2])"
      ]
     },
     "execution_count": 98,
     "metadata": {},
     "output_type": "execute_result"
    }
   ],
   "source": [
    "y[:5]"
   ]
  },
  {
   "cell_type": "markdown",
   "metadata": {
    "colab_type": "text",
    "id": "AEa_HqRZloH4"
   },
   "source": [
    "## <font color='red'><b>Task 1</b></font>"
   ]
  },
  {
   "cell_type": "markdown",
   "metadata": {
    "colab_type": "text",
    "id": "YQ5q8IxHNRk3"
   },
   "source": [
    "<font color='red'> <b>Step - 1</b></font>"
   ]
  },
  {
   "cell_type": "code",
   "execution_count": null,
   "metadata": {},
   "outputs": [],
   "source": []
  },
  {
   "cell_type": "markdown",
   "metadata": {
    "colab_type": "text",
    "id": "GJCFCaOzl7Mr"
   },
   "source": [
    "*  <font color='blue'><b>Creating samples</b></font><br>\n",
    "    <b> Randomly create 30 samples from the whole boston data points</b>\n",
    "    *  Creating each sample: Consider any random 303(60% of 506) data points from whole data set and then replicate any 203 points from the sampled points\n",
    "    \n",
    "     For better understanding of this procedure lets check this examples, assume we have 10 data points [1,2,3,4,5,6,7,8,9,10], first we take 6 data points randomly , consider we have selected [4, 5, 7, 8, 9, 3] now we will replicate 4 points from [4, 5, 7, 8, 9, 3], consder they are [5, 8, 3,7] so our final sample will be [4, 5, 7, 8, 9, 3, 5, 8, 3,7]\n",
    "* <font color='blue'><b> Create 30 samples </b></font>\n",
    "    *  Note that as a part of the Bagging when you are taking the random samples <b>make sure each of the sample will have different set of columns</b><br>\n",
    "Ex: Assume we have 10 columns[1 ,2 ,3 ,4 ,5 ,6 ,7 ,8 ,9 ,10] for the first sample we will select [3, 4, 5, 9, 1, 2] and for the second sample  [7, 9, 1, 4, 5, 6, 2] and so on...\n",
    "Make sure each sample will have atleast 3 feautres/columns/attributes"
   ]
  },
  {
   "cell_type": "markdown",
   "metadata": {
    "colab_type": "text",
    "id": "zUqFEBSvNjCa"
   },
   "source": [
    "<font color='red'><b>Step - 2 </b></font>"
   ]
  },
  {
   "cell_type": "markdown",
   "metadata": {
    "colab_type": "text",
    "id": "uqi9AhCYNq3Z"
   },
   "source": [
    "<font color='blue'><b>Building High Variance Models on each of the sample and finding train MSE value</b></font>"
   ]
  },
  {
   "cell_type": "markdown",
   "metadata": {
    "colab_type": "text",
    "id": "-lLBnZHXOFln"
   },
   "source": [
    "*  Build a regression trees on each of 30 samples.\n",
    "*  Computed the predicted values of each data point(506 data points) in your corpus.\n",
    "*  Predicted house price of $i^{th}$ data point $y^{i}_{pred} =  \\frac{1}{30}\\sum_{k=1}^{30}(\\text{predicted value of } x^{i} \\text{ with } k^{th} \\text{ model})$\n",
    "*  Now calculate the $MSE =  \\frac{1}{506}\\sum_{i=1}^{506}(y^{i} - y^{i}_{pred})^{2}$"
   ]
  },
  {
   "cell_type": "markdown",
   "metadata": {
    "colab_type": "text",
    "id": "Kls23JLnSN23"
   },
   "source": [
    "<font color='red'> <b>Step - 3 </b></font>"
   ]
  },
  {
   "cell_type": "markdown",
   "metadata": {
    "colab_type": "text",
    "id": "rz2GchkGSWnh"
   },
   "source": [
    "*  <font color='blue'><b>Calculating the OOB score </b></font>"
   ]
  },
  {
   "cell_type": "markdown",
   "metadata": {
    "colab_type": "text",
    "id": "DGHkVV2kSibm"
   },
   "source": [
    "*  Predicted house price of $i^{th}$ data point $y^{i}_{pred} =  \\frac{1}{k}\\sum_{\\text{k= model which was buit on samples not included } x^{i}}(\\text{predicted value of } x^{i} \\text{ with } k^{th} \\text{ model})$.\n",
    "*  Now calculate the $OOB Score =  \\frac{1}{506}\\sum_{i=1}^{506}(y^{i} - y^{i}_{pred})^{2}$."
   ]
  },
  {
   "cell_type": "markdown",
   "metadata": {
    "colab_type": "text",
    "id": "RK860ocxTyoz"
   },
   "source": [
    "# <font color='red'><b>Task 2</b></font>"
   ]
  },
  {
   "cell_type": "markdown",
   "metadata": {
    "colab_type": "text",
    "id": "1dme-N6TUCrY"
   },
   "source": [
    "*  <font color='blue'><b>Computing CI of OOB Score and Train MSE</b></font>\n",
    "  *   Repeat Task 1 for 35 times, and for each iteration store the Train MSE and OOB score </li>\n",
    "<li> After this we will have 35 Train MSE values and 35 OOB scores </li>\n",
    "<li> using these 35 values (assume like a sample) find the confidence intravels of MSE and OOB Score </li>\n",
    "<li> you need to report CI of MSE and CI of OOB Score </li>\n",
    "<li> Note: Refer the Central_Limit_theorem.ipynb to check how to find the confidence intravel</li>\n",
    "</ol>"
   ]
  },
  {
   "cell_type": "markdown",
   "metadata": {
    "colab_type": "text",
    "id": "O6UcH1x9Uwrj"
   },
   "source": [
    "# <font color='red'><b>Task 3</b></font>"
   ]
  },
  {
   "cell_type": "markdown",
   "metadata": {
    "colab_type": "text",
    "id": "bOC_AgsLU7OH"
   },
   "source": [
    "*  <font color='blue'><b>Given a single query point predict the price of house.</b></font>"
   ]
  },
  {
   "cell_type": "markdown",
   "metadata": {
    "colab_type": "text",
    "id": "HYs5jSFdVILe"
   },
   "source": [
    "Consider xq= [0.18,20.0,5.00,0.0,0.421,5.60,72.2,7.95,7.0,30.0,19.1,372.13,18.60] \n",
    "Predict the house price for this point as mentioned in the step 2 of Task 1."
   ]
  },
  {
   "cell_type": "markdown",
   "metadata": {
    "colab_type": "text",
    "id": "_6gxZEsFWm-8"
   },
   "source": [
    "<br><br><br>"
   ]
  },
  {
   "cell_type": "markdown",
   "metadata": {
    "colab_type": "text",
    "id": "V2fHTdS_zpgG"
   },
   "source": [
    "# <font color='blue'> <b>Task - 1</b></font>"
   ]
  },
  {
   "cell_type": "markdown",
   "metadata": {
    "colab_type": "text",
    "id": "e0yGBuryOwHz"
   },
   "source": [
    "<font color='blue'><b>Step - 1</b></font>"
   ]
  },
  {
   "cell_type": "markdown",
   "metadata": {
    "colab_type": "text",
    "id": "lJXX8vf3z073"
   },
   "source": [
    "*  <font color='blue'> <b>Creating samples</b></font>"
   ]
  },
  {
   "cell_type": "markdown",
   "metadata": {
    "colab_type": "text",
    "id": "CSVaWG1F4uCZ"
   },
   "source": [
    "<font color='Orange'><b>Algorithm</b></font>\n",
    "\n",
    "![alt text](https://i.imgur.com/BTVYXQ1.jpg/)"
   ]
  },
  {
   "cell_type": "markdown",
   "metadata": {
    "colab_type": "text",
    "id": "f_oWoN97BhDY"
   },
   "source": [
    "*  <font color='blue'><b> Write code for generating samples</b></font>"
   ]
  },
  {
   "cell_type": "code",
   "execution_count": 130,
   "metadata": {},
   "outputs": [],
   "source": [
    "def generating_samples(input_data, target_data):\n",
    "\n",
    "    '''In this function, we will write code for generating 30 samples '''\n",
    "    # you can use random.choice to generate random indices without replacement\n",
    "    # Please have a look at this link https://docs.scipy.org/doc/numpy-1.16.0/reference/generated/numpy.random.choice.html for more details\n",
    "    # Please follow above pseudo code for generating samples \n",
    "    selecting_rows = np.random.choice([i for i in range(506)], size=303, replace=False)\n",
    "    \n",
    "    replicating_rows = np.random.choice(len(selecting_rows), size=203, replace=True)\n",
    "    \n",
    "    selecting_columns = np.random.choice([i for i in range(13)], size=np.random.randint(low=3, high=13), replace=False)\n",
    "\n",
    "    \n",
    "    sample_data = input_data[selecting_rows[:,None],selecting_columns]\n",
    "    \n",
    "    target_of_sample_data = target_data[selecting_rows]\n",
    "    \n",
    "    replicated_sample_data = sample_data[replicating_rows]\n",
    "    \n",
    "    target_of_replicated_sample_data = target_data[replicating_rows]\n",
    "    \n",
    "    #concatanating rows\n",
    "    final_sample_data = np.vstack((sample_data.reshape(-1,1), replicated_sample_data.reshape(-1,1)))\n",
    "    final_sample_data = final_sample_data.reshape(506,-1)\n",
    "    \n",
    "    final_target_data = np.vstack((target_of_sample_data.reshape(-1,1), target_of_replicated_sample_data.reshape(-1,1)))\n",
    "    final_target_data = final_target_data.reshape(506,1)\n",
    "    \n",
    "    return final_sample_data , final_target_data, selecting_rows, selecting_columns"
   ]
  },
  {
   "cell_type": "code",
   "execution_count": 4,
   "metadata": {},
   "outputs": [
    {
     "data": {
      "text/plain": [
       "303"
      ]
     },
     "execution_count": 4,
     "metadata": {},
     "output_type": "execute_result"
    }
   ],
   "source": [
    "import numpy as np\n",
    "selecting_rows = np.random.choice([i for i in range(506)], size=303, replace=False)\n",
    "replicating_rows = np.random.choice(len(selecting_rows), size=203, replace=True)\n",
    "selecting_columns = np.random.choice([i for i in range(13)], size=np.random.randint(low=3, high=13), replace=False)\n",
    "len(selecting_rows)"
   ]
  },
  {
   "cell_type": "code",
   "execution_count": 6,
   "metadata": {},
   "outputs": [
    {
     "data": {
      "text/plain": [
       "array([131,  75,  46, 236, 166, 273, 100, 258, 258, 351, 239, 380, 305,\n",
       "       260, 499, 282, 127, 433, 319, 341, 298,  92,  66, 441,  79, 359,\n",
       "        26, 358, 353, 101,  71, 112,   5, 234, 342, 299, 499, 342, 498,\n",
       "       346, 164,  62, 325, 418, 316, 260,  45,  96, 222, 372, 434, 287,\n",
       "       187, 500, 466, 473, 251,  67, 488,  77, 500, 409, 374,  87, 180,\n",
       "       141, 417, 425, 187, 471,  29, 476, 464, 400, 381, 379,   9, 179,\n",
       "       187, 392, 447,   8, 472, 152, 187, 254, 352,  61,  17,  50,   4,\n",
       "       299, 251,  63, 218, 460, 306,  79, 415, 209, 204,  58,   0, 330,\n",
       "       486, 139,  78, 168, 499, 188, 436, 197,  43, 197, 333, 342,  22,\n",
       "       128, 207,  84, 282, 350, 192, 454, 406, 172, 157, 280,  28, 121,\n",
       "       143,  60, 147, 125,  40, 434, 224, 314, 394, 156, 465, 402, 243,\n",
       "       292, 130, 224, 452, 485, 463, 463, 155, 348, 263, 435, 447, 338,\n",
       "        58, 149, 124, 296, 268, 238, 440, 135,  59, 182, 348, 491,  79,\n",
       "        17, 349, 140, 180, 504, 202,  52, 240, 464, 397,  28, 156,   4,\n",
       "       135, 266, 353, 352,  18, 499, 166, 366, 504, 323, 483,   0, 352,\n",
       "        95, 186, 435, 292, 191, 123, 105,  97])"
      ]
     },
     "execution_count": 6,
     "metadata": {},
     "output_type": "execute_result"
    }
   ],
   "source": [
    "np.random.choice([i for i in range(506)], size=203, replace=True)"
   ]
  },
  {
   "cell_type": "markdown",
   "metadata": {
    "colab_type": "text",
    "id": "MivEQFlm7iOg"
   },
   "source": [
    "<font color='cyan'> <b> Grader function - 1 </b> </fongt>"
   ]
  },
  {
   "cell_type": "code",
   "execution_count": 131,
   "metadata": {
    "colab": {},
    "colab_type": "code",
    "id": "AVvuhNzm7uld"
   },
   "outputs": [
    {
     "data": {
      "text/plain": [
       "True"
      ]
     },
     "execution_count": 131,
     "metadata": {},
     "output_type": "execute_result"
    }
   ],
   "source": [
    "def grader_samples(a,b,c,d):\n",
    "    length = (len(a)==506  and len(b)==506)\n",
    "    sampled = (len(a)-len(set([str(i) for i in a]))==203)\n",
    "    rows_length = (len(c)==303)\n",
    "    column_length= (len(d)>=3)\n",
    "    assert(length and sampled and rows_length and column_length)\n",
    "    return True\n",
    "a,b,c,d = generating_samples(x, y)\n",
    "grader_samples(a,b,c,d)"
   ]
  },
  {
   "cell_type": "markdown",
   "metadata": {
    "colab_type": "text",
    "id": "b4LSsmn4Jn2_"
   },
   "source": [
    "*  <font color='blue'> <b>Create 30 samples </b>"
   ]
  },
  {
   "cell_type": "markdown",
   "metadata": {
    "colab_type": "text",
    "id": "3ec7MN6sL2BZ",
    "tags": []
   },
   "source": [
    "![alt text](https://i.imgur.com/p8eZaWL.jpg)"
   ]
  },
  {
   "cell_type": "code",
   "execution_count": 132,
   "metadata": {
    "colab": {},
    "colab_type": "code",
    "id": "XXlKWjCcBvTk"
   },
   "outputs": [],
   "source": [
    "# Use generating_samples function to create 30 samples \n",
    "# store these created samples in a list\n",
    "\n",
    "def stacking_samples(x, y):\n",
    "    list_input_data =[]\n",
    "    list_output_data =[]\n",
    "    list_selected_rows= []\n",
    "    list_selected_columns=[]\n",
    "\n",
    "    for i in range(30):\n",
    "        a,b,c,d = generating_samples(x, y)\n",
    "        list_input_data.append(a)\n",
    "        list_output_data.append(b)\n",
    "        list_selected_rows.append(c)\n",
    "        list_selected_columns.append(d)\n",
    "    return list_input_data, list_output_data, list_selected_rows, list_selected_columns"
   ]
  },
  {
   "cell_type": "markdown",
   "metadata": {
    "colab_type": "text",
    "id": "MXUz9VFiMQkh"
   },
   "source": [
    "<font color='cyan'> <b>Grader function - 2 </b></font>"
   ]
  },
  {
   "cell_type": "code",
   "execution_count": 133,
   "metadata": {
    "colab": {},
    "colab_type": "code",
    "id": "hCvIq8NuMWOC"
   },
   "outputs": [
    {
     "data": {
      "text/plain": [
       "True"
      ]
     },
     "execution_count": 133,
     "metadata": {},
     "output_type": "execute_result"
    }
   ],
   "source": [
    "def grader_30(a):\n",
    "    assert(len(a)==30 and len(a[0])==506)\n",
    "    return True\n",
    "list_input_data, list_output_data, list_selected_row, list_selected_columns = stacking_samples(x, y)\n",
    "grader_30(list_input_data)"
   ]
  },
  {
   "cell_type": "code",
   "execution_count": 134,
   "metadata": {},
   "outputs": [],
   "source": [
    "list_input_data, list_output_data, list_selected_rows, list_selected_columns = stacking_samples(x, y)"
   ]
  },
  {
   "cell_type": "markdown",
   "metadata": {
    "colab_type": "text",
    "id": "7Pv-mkZkO6dh"
   },
   "source": [
    "<br>"
   ]
  },
  {
   "cell_type": "markdown",
   "metadata": {
    "colab_type": "text",
    "id": "whaHCPB0O8qF"
   },
   "source": [
    "<font color='red'><b>Step - 2 </b></font>"
   ]
  },
  {
   "cell_type": "markdown",
   "metadata": {
    "colab_type": "text",
    "id": "XBy4zXSWPtU8"
   },
   "source": [
    "<font color='orange'><b>Flowchart for building tree</b></font>"
   ]
  },
  {
   "cell_type": "markdown",
   "metadata": {
    "colab_type": "text",
    "id": "5xvH06HPQBdP"
   },
   "source": [
    "![alt text](https://i.imgur.com/pcXfSmp.png)"
   ]
  },
  {
   "cell_type": "code",
   "execution_count": null,
   "metadata": {},
   "outputs": [],
   "source": []
  },
  {
   "cell_type": "markdown",
   "metadata": {
    "colab_type": "text",
    "id": "WRwPO_uHQjul"
   },
   "source": [
    "*  <font color='blue'><b> Write code for building regression trees</b></font>"
   ]
  },
  {
   "cell_type": "code",
   "execution_count": 135,
   "metadata": {
    "colab": {},
    "colab_type": "code",
    "id": "YWQp6tRwMthq"
   },
   "outputs": [],
   "source": [
    "def build_randomForest(list_input_data, list_output_data):\n",
    "    \n",
    "    list_of_all_models = []\n",
    "    for i in range(len(list_input_data)):\n",
    "        X = list_input_data[i]\n",
    "        Y = list_output_data[i]\n",
    "        tree_Clf = DecisionTreeRegressor(max_depth=None)\n",
    "        tree_Clf.fit(X, Y)\n",
    "        \n",
    "        list_of_all_models.append(tree_Clf)\n",
    "    return list_of_all_models"
   ]
  },
  {
   "cell_type": "code",
   "execution_count": 136,
   "metadata": {},
   "outputs": [
    {
     "name": "stdout",
     "output_type": "stream",
     "text": [
      "30\n"
     ]
    }
   ],
   "source": [
    "models = build_randomForest(list_input_data, list_output_data)\n",
    "print(len(models))"
   ]
  },
  {
   "cell_type": "markdown",
   "metadata": {
    "colab_type": "text",
    "id": "21j8BKfAQ1U8"
   },
   "source": [
    "<font color='orange'><b>Flowchart for calculating MSE </b></font>"
   ]
  },
  {
   "cell_type": "markdown",
   "metadata": {
    "colab_type": "text",
    "id": "8Q0mTBD2RBx_"
   },
   "source": [
    "![alt text](https://i.imgur.com/sPEE618.png)"
   ]
  },
  {
   "cell_type": "markdown",
   "metadata": {
    "colab_type": "text",
    "id": "6e-UamlHRjPy"
   },
   "source": [
    "After getting predicted_y for each data point, we can use sklearns mean_squared_error to calculate the MSE between predicted_y and actual_y."
   ]
  },
  {
   "cell_type": "markdown",
   "metadata": {
    "colab_type": "text",
    "id": "TnIMT7_oR312"
   },
   "source": [
    "*  <font color='blue'><b> Write code for calculating MSE</b></font>"
   ]
  },
  {
   "cell_type": "code",
   "execution_count": 137,
   "metadata": {
    "colab": {},
    "colab_type": "code",
    "id": "qWhcvMRWRA9b"
   },
   "outputs": [],
   "source": [
    "def calculateMSE(input_data, models, list_selected_columns):\n",
    "    y_pred_for_mse = []\n",
    "    for i in input_data:\n",
    "        y_pred = []\n",
    "        for j in range(len(models)):\n",
    "            y_pred.append( models[j].predict(i[list_selected_columns[j]].reshape(1, -1)) )\n",
    "            #print(i[list_selected_columns[j]])\n",
    "        y_pred_for_mse.append(np.median(np.array(y_pred)))\n",
    "    mse = mean_squared_error(y, np.array(y_pred_for_mse))\n",
    "    return mse"
   ]
  },
  {
   "cell_type": "code",
   "execution_count": 138,
   "metadata": {},
   "outputs": [
    {
     "name": "stdout",
     "output_type": "stream",
     "text": [
      "Mean Square Error:  7.1856354468599015\n"
     ]
    }
   ],
   "source": [
    "mean_sq_error = calculateMSE(x, models, list_selected_columns)\n",
    "print('Mean Square Error: ', mean_sq_error)"
   ]
  },
  {
   "cell_type": "markdown",
   "metadata": {
    "colab_type": "text",
    "id": "RuclPDMnSz8F"
   },
   "source": [
    "<font color='blue'><b>Step - 3 </b></font>"
   ]
  },
  {
   "cell_type": "markdown",
   "metadata": {
    "colab_type": "text",
    "id": "ESb9FSIDTM5V"
   },
   "source": [
    "<font color='orange'><b>Flowchart for calculating OOB score</b></font>"
   ]
  },
  {
   "cell_type": "markdown",
   "metadata": {
    "colab_type": "text",
    "id": "HB-d6NMETbd9"
   },
   "source": [
    "![alt text](https://i.imgur.com/95S5Mtm.png)"
   ]
  },
  {
   "cell_type": "markdown",
   "metadata": {
    "colab_type": "text",
    "id": "WW3GOcFzTqbt"
   },
   "source": [
    "Now calculate the $OOB Score =  \\frac{1}{506}\\sum_{i=1}^{506}(y^{i} - y^{i}_{pred})^{2}$."
   ]
  },
  {
   "cell_type": "markdown",
   "metadata": {
    "colab_type": "text",
    "id": "zBqcS03pUYSZ"
   },
   "source": [
    "*  <font color='blue'><b> Write code for calculating OOB score </b></font>"
   ]
  },
  {
   "cell_type": "markdown",
   "metadata": {},
   "source": [
    "* Predicted house price of  𝑖𝑡ℎ  data point  𝑦𝑖𝑝𝑟𝑒𝑑=1𝑘∑k= model which was buit on samples not included 𝑥𝑖(predicted value of 𝑥𝑖 with 𝑘𝑡ℎ model) .\n",
    "* Now calculate the  𝑂𝑂𝐵𝑆𝑐𝑜𝑟𝑒=1506∑506𝑖=1(𝑦𝑖−𝑦𝑖𝑝𝑟𝑒𝑑)2."
   ]
  },
  {
   "cell_type": "code",
   "execution_count": 139,
   "metadata": {
    "colab": {},
    "colab_type": "code",
    "id": "ceW5-D88Uswi"
   },
   "outputs": [],
   "source": [
    "def calculateOOBscore(input_data, target_data, models, list_selected_rows, list_selected_columns):\n",
    "    \n",
    "    predicted_y = []\n",
    "    for i, point in enumerate(input_data):\n",
    "        \n",
    "        model_y_pred = []\n",
    "        for j, model in enumerate(models):\n",
    "            if i not in list_selected_rows[j]:\n",
    "                model_y_pred.append( model.predict(point[list_selected_columns[j]].reshape(1,-1)) )\n",
    "        predicted_y.append(np.median(np.array(model_y_pred)))\n",
    "    OOB_score = mean_squared_error(target_data, np.array(predicted_y))\n",
    "    return OOB_score"
   ]
  },
  {
   "cell_type": "code",
   "execution_count": 140,
   "metadata": {},
   "outputs": [
    {
     "name": "stdout",
     "output_type": "stream",
     "text": [
      "OOB Score:  24.213035559398335\n"
     ]
    }
   ],
   "source": [
    "oobScore = calculateOOBscore(x, y, models, list_selected_rows, list_selected_columns)\n",
    "print('OOB Score: ', oobScore)"
   ]
  },
  {
   "cell_type": "markdown",
   "metadata": {},
   "source": [
    "# <font color='blue'><b>Task 2</b></font>"
   ]
  },
  {
   "cell_type": "markdown",
   "metadata": {},
   "source": [
    "*  <font color='blue'><b>Computing CI of OOB Score and Train MSE</b></font>\n",
    "  *   Repeat Task 1 for 35 times, and for each iteration store the Train MSE and OOB score </li>\n",
    "<li> After this we will have 35 Train MSE values and 35 OOB scores </li>\n",
    "<li> using these 35 values (assume like a sample) find the confidence intravels of MSE and OOB Score </li>\n",
    "<li> you need to report CI of MSE and CI of OOB Score </li>\n",
    "<li> Note: Refer the Central_Limit_theorem.ipynb to check how to find the confidence intravel</li>\n",
    "</ol>"
   ]
  },
  {
   "cell_type": "markdown",
   "metadata": {},
   "source": [
    "*  <font color='blue'><b> Write code for Task 2 </b></font>"
   ]
  },
  {
   "cell_type": "code",
   "execution_count": 141,
   "metadata": {},
   "outputs": [],
   "source": [
    "def calMSE_OOB(input_data, output_data):\n",
    "    \n",
    "    \"\"\"\n",
    "       This method calculated the MSE and OOB scores for 35 iteration and stores in a list of list_MSE, and list_OOB.\n",
    "    \"\"\"\n",
    "    list_MSE = []\n",
    "    list_OOB = []\n",
    "    \n",
    "    for i in range(35):\n",
    "        list_inputs, list_outputs, list_rows, list_columns = stacking_samples(input_data, output_data)\n",
    "        model_list = build_randomForest(list_inputs, list_outputs)\n",
    "        mse = calculateMSE(input_data, model_list, list_columns)\n",
    "        oob_score = calculateOOBscore(input_data, output_data, model_list, list_rows, list_columns)\n",
    "    \n",
    "        list_MSE.append(mse)\n",
    "        list_OOB.append(oob_score)\n",
    "    return list_MSE, list_OOB"
   ]
  },
  {
   "cell_type": "code",
   "execution_count": 142,
   "metadata": {},
   "outputs": [
    {
     "name": "stdout",
     "output_type": "stream",
     "text": [
      "Wall time: 44.3 s\n"
     ]
    }
   ],
   "source": [
    "%%time\n",
    "MSE_List, OOB_Scores = calMSE_OOB(x, y)"
   ]
  },
  {
   "cell_type": "code",
   "execution_count": 143,
   "metadata": {},
   "outputs": [
    {
     "name": "stdout",
     "output_type": "stream",
     "text": [
      "[7.934704830917874, 8.70688747351768, 8.788422868631972, 8.32749468050066, 9.288750769938776, 8.454031119784759, 8.935097168697848, 8.45498482515371, 7.288754186496734, 9.047206177261748, 7.766885587495336, 6.4753431005653255, 7.719120602287282, 7.322180315382082, 8.509853443347552, 9.813181265402775, 8.16969321388129, 8.011756857295783, 8.578090917101406, 8.179829573188874, 7.477468332812373, 10.592370867849823, 9.106476026404422, 7.205343103590251, 7.532638775026183, 8.040317886747914, 9.160046730139685, 8.683087804677205, 8.381232402527692, 8.889412493650806, 6.264414207290294, 7.395515500109791, 6.657301944718928, 5.5631907087176105, 7.104412573223735]\n"
     ]
    }
   ],
   "source": [
    "print(MSE_List)"
   ]
  },
  {
   "cell_type": "code",
   "execution_count": 144,
   "metadata": {},
   "outputs": [
    {
     "name": "stdout",
     "output_type": "stream",
     "text": [
      "[24.064157725351336, 26.024858442530082, 26.26889588274045, 25.019450839920946, 21.61148328373662, 23.132379676141305, 23.993517988012083, 25.806360649978043, 20.54716681488801, 25.297770166337287, 20.99997797160004, 24.771147874008296, 22.412840220420957, 23.815033624286343, 25.371423234147837, 25.54766957697615, 22.037049447506742, 23.337650764437857, 19.901915413894667, 25.133618431309674, 21.67968334772974, 23.938587267486447, 21.76721942099551, 25.223231101778655, 22.844981006856372, 22.30784876034192, 23.182009135807625, 24.066974382411065, 23.649397157718486, 24.83751376207404, 20.998198568566096, 22.250069975570923, 21.771073114295124, 19.39132835363394, 22.70752072473556]\n"
     ]
    }
   ],
   "source": [
    "print(OOB_Scores)"
   ]
  },
  {
   "cell_type": "markdown",
   "metadata": {},
   "source": [
    "<font color='orange'><b>Finding confidence interval</b></font>"
   ]
  },
  {
   "cell_type": "markdown",
   "metadata": {},
   "source": [
    "* CI = x̄ ± z* σ / (√n)\n",
    "* z = 1.96 for 95% CI from Z-table"
   ]
  },
  {
   "cell_type": "code",
   "execution_count": 145,
   "metadata": {},
   "outputs": [],
   "source": [
    "def cal_ConfidenceInterval(input_sample):\n",
    "    \"\"\"\n",
    "       This method takes list of sample values and calculate and return result for 95% CI.\n",
    "    \"\"\"\n",
    "    mean = np.mean(input_sample)\n",
    "    std_deviation = np.std(input_sample)\n",
    "    n = len(input_sample)\n",
    "    SE = std_deviation/(np.sqrt(n))\n",
    "    z = 1.96\n",
    "    CI_upper = mean + (SE*z)\n",
    "    CI_lower = mean - (SE*z)\n",
    "    return CI_upper, CI_lower, mean"
   ]
  },
  {
   "cell_type": "code",
   "execution_count": 146,
   "metadata": {},
   "outputs": [],
   "source": [
    "CI_mse_upper, CI_mse_lower, Mean_mse = cal_ConfidenceInterval(MSE_List)\n",
    "CI_oob_upper, CI_oob_lower, Mean_oob = cal_ConfidenceInterval(OOB_Scores)"
   ]
  },
  {
   "cell_type": "code",
   "execution_count": 147,
   "metadata": {},
   "outputs": [
    {
     "name": "stdout",
     "output_type": "stream",
     "text": [
      "MSE: \n",
      "\tMean MSE: 8.109299952409604\n",
      "\tCI upper limit: 8.445134270085726\n",
      "\tCI lower limit: 7.773465634733481\n",
      "OOB: \n",
      "\tMean OOB: 23.30600011737789\n",
      "\tCI upper limit: 23.90147980049359\n",
      "\tCI lower limit: 22.710520434262193\n"
     ]
    }
   ],
   "source": [
    "print('MSE: \\n\\tMean MSE: {}\\n\\tCI upper limit: {}\\n\\tCI lower limit: {}'.format(Mean_mse, CI_mse_upper, CI_mse_lower))\n",
    "print('OOB: \\n\\tMean OOB: {}\\n\\tCI upper limit: {}\\n\\tCI lower limit: {}'.format(Mean_oob, CI_oob_upper, CI_oob_lower))"
   ]
  },
  {
   "cell_type": "code",
   "execution_count": 160,
   "metadata": {},
   "outputs": [
    {
     "data": {
      "text/plain": [
       "Text(0.5, 0, 'Mean Squarred Error')"
      ]
     },
     "execution_count": 160,
     "metadata": {},
     "output_type": "execute_result"
    },
    {
     "data": {
      "image/png": "[encoded data removed]",
      "text/plain": [
       "<Figure size 720x576 with 1 Axes>"
      ]
     },
     "metadata": {
      "needs_background": "light"
     },
     "output_type": "display_data"
    }
   ],
   "source": [
    "import matplotlib.pyplot as plt\n",
    "plt.figure(figsize=(10,8))\n",
    "plt.hist(MSE_List, bins=10, alpha=0.2, color='blue')\n",
    "plt.text(5.5,7.5, 'Mean MSE: 8.545\\nCI upper limit: 8.900\\nCI lower limit: 8.189')\n",
    "plt.title('Hist Plot: MSE')\n",
    "plt.xlabel('Mean Squarred Error')"
   ]
  },
  {
   "cell_type": "code",
   "execution_count": 164,
   "metadata": {},
   "outputs": [
    {
     "data": {
      "text/plain": [
       "Text(0.5, 0, 'Out of bag scores')"
      ]
     },
     "execution_count": 164,
     "metadata": {},
     "output_type": "execute_result"
    },
    {
     "data": {
      "image/png": "[encoded data removed]",
      "text/plain": [
       "<Figure size 720x576 with 1 Axes>"
      ]
     },
     "metadata": {
      "needs_background": "light"
     },
     "output_type": "display_data"
    }
   ],
   "source": [
    "plt.figure(figsize=(10,8))\n",
    "plt.hist(OOB_Scores, bins=10, alpha=0.3, color='orange')\n",
    "plt.text(19.3,5.7, 'Mean OOB: 24.23\\nCI upper limit: 24.88\\nCI lower limit: 23.58')\n",
    "plt.title('Hist Plot: OOB Score')\n",
    "plt.xlabel('Out of bag scores')"
   ]
  },
  {
   "cell_type": "markdown",
   "metadata": {
    "colab_type": "text",
    "id": "jKTnJdiBVS_e"
   },
   "source": [
    "# <font color='blue'><b>Task 3</b></font>"
   ]
  },
  {
   "cell_type": "markdown",
   "metadata": {
    "colab_type": "text",
    "id": "eXxrvZqHV1Fr"
   },
   "source": [
    "<font color='orange'><b>Flowchart for Task 3</b></font>"
   ]
  },
  {
   "cell_type": "markdown",
   "metadata": {
    "colab_type": "text",
    "id": "NyjwEJ62V6a6"
   },
   "source": [
    "<b>Hint: </b> We created 30 models by using 30 samples in TASK-1. Here, we need send query point \"xq\"  to 30 models and perform the regression on the output generated by 30 models."
   ]
  },
  {
   "cell_type": "markdown",
   "metadata": {
    "colab_type": "text",
    "id": "0emSwLL7VurD"
   },
   "source": [
    "![alt text](https://i.imgur.com/Y5cNhQk.png)"
   ]
  },
  {
   "cell_type": "markdown",
   "metadata": {
    "colab_type": "text",
    "id": "29hjwKlWWDfo"
   },
   "source": [
    "*  <font color='blue'><b> Write code for TASK 3 </b></font>"
   ]
  },
  {
   "cell_type": "code",
   "execution_count": 150,
   "metadata": {
    "colab": {},
    "colab_type": "code",
    "id": "i_pUlSD-VYD1"
   },
   "outputs": [
    {
     "name": "stdout",
     "output_type": "stream",
     "text": [
      "Price prediction for given query point is:  21.549999999999997\n"
     ]
    }
   ],
   "source": [
    "xq = np.array([0.18,20.0,5.00,0.0,0.421,5.60,72.2,7.95,7.0,30.0,19.1,372.13,18.60])\n",
    "\n",
    "pred_Y = []\n",
    "for i in range(len(list_selected_columns)):\n",
    "    pred = models[i].predict(xq[list_selected_columns[i]].reshape(1,-1))\n",
    "    pred_Y.append(pred)\n",
    "prediction = np.median(np.array(pred_Y))\n",
    "\n",
    "print('Price prediction for given query point is: ', prediction)"
   ]
  },
  {
   "cell_type": "markdown",
   "metadata": {
    "colab_type": "text",
    "id": "DJHTGEZgWJjR"
   },
   "source": [
    "<br><br><br>"
   ]
  },
  {
   "cell_type": "markdown",
   "metadata": {
    "colab_type": "text",
    "id": "IOdUi-0xWOJ9"
   },
   "source": [
    "<font color='red'><b>Write observations for task 1, task 2, task 3 indetail</b></font>"
   ]
  },
  {
   "cell_type": "markdown",
   "metadata": {
    "colab": {},
    "colab_type": "code",
    "id": "AIcax45hWKT-"
   },
   "source": [
    "### Task1: \n",
    "* We calculated Means Squarred Error ~ 7\n",
    "* OOB Score: 24.21\n",
    "\n",
    "### Task2:\n",
    "* MSE: \n",
    "        Mean MSE: 8.10\n",
    "        CI upper limit: 8.44\n",
    "        CI lower limit: 7.77\n",
    "* OOB: \n",
    "        Mean OOB: 23.30\n",
    "        CI upper limit: 23.90\n",
    "        CI lower limit: 22.71\n",
    "        \n",
    "### Task3:\n",
    "* Price Prediction for given query point = 21.55"
   ]
  },
  {
   "cell_type": "markdown",
   "metadata": {},
   "source": [
    "## <font color='Green'><b>Thank You</b></font>"
   ]
  },
  {
   "cell_type": "code",
   "execution_count": null,
   "metadata": {},
   "outputs": [],
   "source": []
  }
 ],
 "metadata": {
  "colab": {
   "collapsed_sections": [],
   "name": "Bootstrap_assignment.ipynb",
   "provenance": []
  },
  "kernelspec": {
   "display_name": "Python 3 (ipykernel)",
   "language": "python",
   "name": "python3"
  },
  "language_info": {
   "codemirror_mode": {
    "name": "ipython",
    "version": 3
   },
   "file_extension": ".py",
   "mimetype": "text/x-python",
   "name": "python",
   "nbconvert_exporter": "python",
   "pygments_lexer": "ipython3",
   "version": "3.11.0"
  }
 },
 "nbformat": 4,
 "nbformat_minor": 4
}
